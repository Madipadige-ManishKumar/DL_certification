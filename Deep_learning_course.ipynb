{
  "nbformat": 4,
  "nbformat_minor": 0,
  "metadata": {
    "colab": {
      "provenance": [],
      "authorship_tag": "ABX9TyMlGEXp0PlmC9lBl9xeK97l",
      "include_colab_link": true
    },
    "kernelspec": {
      "name": "python3",
      "display_name": "Python 3"
    },
    "language_info": {
      "name": "python"
    }
  },
  "cells": [
    {
      "cell_type": "markdown",
      "metadata": {
        "id": "view-in-github",
        "colab_type": "text"
      },
      "source": [
        "<a href=\"https://colab.research.google.com/github/Madipadige-ManishKumar/DL_certification/blob/main/Deep_learning_course.ipynb\" target=\"_parent\"><img src=\"https://colab.research.google.com/assets/colab-badge.svg\" alt=\"Open In Colab\"/></a>"
      ]
    },
    {
      "cell_type": "markdown",
      "source": [
        "### Logistic Regression"
      ],
      "metadata": {
        "id": "GHZE4sa2cRZM"
      }
    },
    {
      "cell_type": "code",
      "source": [],
      "metadata": {
        "id": "fj_TxJRhbD5m"
      },
      "execution_count": null,
      "outputs": []
    },
    {
      "cell_type": "code",
      "execution_count": null,
      "metadata": {
        "colab": {
          "base_uri": "https://localhost:8080/"
        },
        "id": "oRm19qrAWpj1",
        "outputId": "dd6bfc91-818f-4f7b-8257-eb06048a1cf3"
      },
      "outputs": [
        {
          "output_type": "stream",
          "name": "stdout",
          "text": [
            "[1 0 2 1 1 0 1 2 1 1 2 0 0 0 0 2 2 1 1 2 0 2 0 2 2 2 2 2 0 0 0 0 1 0 0 2 1\n",
            " 0 0 0 2 2 1 0 0]\n",
            "Accuracy: 0.9555555555555556\n"
          ]
        },
        {
          "output_type": "stream",
          "name": "stderr",
          "text": [
            "/usr/local/lib/python3.10/dist-packages/sklearn/linear_model/_logistic.py:1256: FutureWarning: 'multi_class' was deprecated in version 1.5 and will be removed in 1.7. Use OneVsRestClassifier(LogisticRegression(..)) instead. Leave it to its default value to avoid this warning.\n",
            "  warnings.warn(\n"
          ]
        }
      ],
      "source": [
        "from sklearn.model_selection import train_test_split\n",
        "from sklearn.linear_model import LogisticRegression\n",
        "from sklearn.metrics import accuracy_score\n",
        "from sklearn.datasets import load_iris\n",
        "\n",
        "# Load the dataset\n",
        "iris = load_iris()\n",
        "X = iris.data  # Features\n",
        "y = iris.target  # Labels\n",
        "\n",
        "# Split the data into training and test sets\n",
        "X_train, X_test, y_train, y_test = train_test_split(X, y, test_size=0.3, random_state=42)\n",
        "\n",
        "# Initialize the logistic regression model\n",
        "logreg = LogisticRegression(max_iter=1000, multi_class='ovr')  # 'ovr' for one-vs-rest for multi-class problems\n",
        "\n",
        "# Fit the model to the training data\n",
        "logreg.fit(X_train, y_train)\n",
        "\n",
        "# Make predictions on the test data\n",
        "y_pred = logreg.predict(X_test)\n",
        "\n",
        "print(y_pred)\n",
        "\n",
        "# Check the accuracy\n",
        "print('Accuracy:', accuracy_score(y_test, y_pred))\n"
      ]
    },
    {
      "cell_type": "code",
      "source": [],
      "metadata": {
        "id": "3vVV2Ph3dBpy"
      },
      "execution_count": null,
      "outputs": []
    },
    {
      "cell_type": "markdown",
      "source": [
        "### Mutli class"
      ],
      "metadata": {
        "id": "toHUAXR-li2S"
      }
    },
    {
      "cell_type": "code",
      "source": [
        "from sklearn.model_selection  import cross_val_score\n",
        "from sklearn.linear_model import LogisticRegression\n",
        "from sklearn.datasets import make_classification\n",
        "\n",
        "features , target= make_classification(n_samples=100000,\n",
        "n_features=3,\n",
        "n_informative=3,\n",
        "n_redundant=0,\n",
        "n_classes=3,\n",
        "random_state=1)\n",
        "logit = LogisticRegression(max_iter=200)\n",
        "scores = cross_val_score(logit,features,target,cv=10,scoring='accuracy')\n",
        "print(scores)"
      ],
      "metadata": {
        "colab": {
          "base_uri": "https://localhost:8080/"
        },
        "id": "zjsyBehzlnqF",
        "outputId": "c0de8f52-555a-4523-eaaf-084840fb744a"
      },
      "execution_count": null,
      "outputs": [
        {
          "output_type": "stream",
          "name": "stdout",
          "text": [
            "[0.7178 0.7244 0.7171 0.7172 0.7158 0.7229 0.7157 0.7214 0.7072 0.7169]\n"
          ]
        }
      ]
    },
    {
      "cell_type": "code",
      "source": [
        "import matplotlib.pyplot as plt\n",
        "import seaborn as sns\n",
        "from sklearn.model_selection import cross_val_score\n",
        "from sklearn.linear_model import LogisticRegression\n",
        "from sklearn.datasets import make_classification\n",
        "from sklearn.metrics import confusion_matrix\n",
        "import numpy as np\n",
        "\n",
        "# Generate dataset\n",
        "features, target = make_classification(n_samples=100000,\n",
        "                                        n_features=3,\n",
        "                                        n_informative=3,\n",
        "                                        n_redundant=0,\n",
        "                                        n_classes=3,\n",
        "                                        random_state=1)\n",
        "\n",
        "# Initialize Logistic Regression model\n",
        "logit = LogisticRegression(max_iter=200)\n",
        "\n",
        "# Perform cross-validation\n",
        "scores = cross_val_score(logit, features, target, cv=10, scoring='accuracy')\n",
        "print(\"Cross-validation scores:\", scores)\n",
        "\n",
        "# Fit the model and generate predictions for confusion matrix\n",
        "logit.fit(features, target)\n",
        "predictions = logit.predict(features)\n",
        "\n",
        "# Compute confusion matrix\n",
        "conf_matrix = confusion_matrix(target, predictions)\n",
        "\n",
        "# Plot confusion matrix using seaborn heatmap\n",
        "plt.figure(figsize=(8,6))\n",
        "sns.heatmap(conf_matrix, annot=True, fmt='d', cmap='Blues', xticklabels=np.unique(target), yticklabels=np.unique(target))\n",
        "plt.title(\"Confusion Matrix\")\n",
        "plt.xlabel('Predicted Labels')\n",
        "plt.ylabel('True Labels')\n",
        "plt.show()\n"
      ],
      "metadata": {
        "colab": {
          "base_uri": "https://localhost:8080/",
          "height": 582
        },
        "id": "fiq5UfG3p7bv",
        "outputId": "635228f9-65b7-47dc-ce66-6db4f6e4a29e"
      },
      "execution_count": null,
      "outputs": [
        {
          "output_type": "stream",
          "name": "stdout",
          "text": [
            "Cross-validation scores: [0.7178 0.7244 0.7171 0.7172 0.7158 0.7229 0.7157 0.7214 0.7072 0.7169]\n"
          ]
        },
        {
          "output_type": "display_data",
          "data": {
            "text/plain": [
              "<Figure size 800x600 with 2 Axes>"
            ],
            "image/png": "[encoded data removed]"
          },
          "metadata": {}
        }
      ]
    },
    {
      "cell_type": "markdown",
      "source": [],
      "metadata": {
        "id": "QuhAyeB_qmEi"
      }
    },
    {
      "cell_type": "code",
      "source": [
        "### visualization\n",
        "import matplotlib.pyplot as plt\n",
        "from sklearn.model_selection import cross_val_score\n",
        "from sklearn.linear_model import LogisticRegression\n",
        "from sklearn.datasets import make_classification\n",
        "\n",
        "# Generate dataset\n",
        "features, target = make_classification(\n",
        "    n_samples=10000,  # Number of samples\n",
        "    n_features=3,      # Number of features\n",
        "    n_informative=3,   # Number of informative features\n",
        "    n_redundant=0,     # Number of redundant features\n",
        "    n_classes=3,       # Number of classes\n",
        "    random_state=1\n",
        ")\n",
        "\n",
        "# Initialize logistic regression model\n",
        "logit = LogisticRegression(max_iter=200)\n",
        "\n",
        "# Perform cross-validation to calculate accuracy scores\n",
        "scores = cross_val_score(logit, features, target, cv=10, scoring='accuracy')\n",
        "\n",
        "print(scores)\n",
        "# Visualization of cross-validation scores\n",
        "plt.figure(figsize=(10, 6))\n",
        "plt.plot(range(1, 11), scores, marker='*', linestyle='-', color='r')\n",
        "plt.title('Confusion matrix ')\n",
        "plt.xlabel('Predicted  Class ')\n",
        "plt.ylabel('True Class')\n",
        "plt.xticks(range(1, 11))\n",
        "plt.ylim(0, 1)\n",
        "plt.grid(True)\n",
        "plt.show()\n"
      ],
      "metadata": {
        "colab": {
          "base_uri": "https://localhost:8080/",
          "height": 582
        },
        "id": "ZpODB2Fpnd_G",
        "outputId": "e4a22865-ce6e-47a0-ba9a-2b4c0b05b9d2"
      },
      "execution_count": null,
      "outputs": [
        {
          "output_type": "stream",
          "name": "stdout",
          "text": [
            "[0.842 0.839 0.839 0.818 0.831 0.823 0.83  0.797 0.821 0.819]\n"
          ]
        },
        {
          "output_type": "display_data",
          "data": {
            "text/plain": [
              "<Figure size 1000x600 with 1 Axes>"
            ],
            "image/png": "[encoded data removed]"
          },
          "metadata": {}
        }
      ]
    },
    {
      "cell_type": "markdown",
      "source": [
        "Titanic csv file viuslzing the confusion matrix\n",
        "### New Section"
      ],
      "metadata": {
        "id": "qp1A0TVmqoKO"
      }
    },
    {
      "cell_type": "code",
      "source": [
        "import pandas as pd\n",
        "import matplotlib.pyplot as plt\n",
        "import seaborn as sns\n",
        "from sklearn.model_selection import cross_val_score\n",
        "from sklearn.linear_model import LogisticRegression\n",
        "from sklearn.metrics import confusion_matrix\n",
        "import numpy as np\n",
        "from sklearn.preprocessing import LabelEncoder\n",
        "\n",
        "# Load your CSV dataset\n",
        "df = pd.read_csv('Titanic.csv')\n",
        "\n",
        "# Check the first few rows of the dataset\n",
        "print(df.head())\n",
        "\n",
        "# Handle missing values\n",
        "# Drop rows with missing values in essential columns or fill them\n",
        "df = df.dropna(subset=['Survived', 'Pclass', 'Sex', 'Fare', 'Embarked'])\n",
        "\n",
        "# Convert categorical columns to numeric using LabelEncoder\n",
        "label_encoder = LabelEncoder()\n",
        "\n",
        "# Encoding 'Sex' column\n",
        "df['Sex'] = label_encoder.fit_transform(df['Sex'])  # male=0, female=1\n",
        "\n",
        "# Encoding 'Embarked' column\n",
        "df['Embarked'] = df['Embarked'].map({'S': 0, 'C': 1, 'Q': 2})  # S=0, C=1, Q=2\n",
        "\n",
        "# Drop non-numeric columns that are not necessary for the model (Name, Ticket, Cabin)\n",
        "df = df.drop(columns=['PassengerId', 'Name', 'Ticket', 'Cabin'])\n",
        "\n",
        "# Separate features and target\n",
        "target_column = 'Survived'\n",
        "features = df.drop(columns=[target_column])  # Drop the target column from the features\n",
        "target = df[target_column]  # Target is the column we are predicting\n",
        "\n",
        "# Initialize Logistic Regression model\n",
        "logit = LogisticRegression(max_iter=200)\n",
        "\n",
        "# Perform cross-validation\n",
        "scores = cross_val_score(logit, features, target, cv=10, scoring='accuracy')\n",
        "print(\"Cross-validation scores:\", scores)\n",
        "\n",
        "# Fit the model and generate predictions for confusion matrix\n",
        "logit.fit(features, target)\n",
        "predictions = logit.predict(features)\n",
        "\n",
        "# Compute confusion matrix\n",
        "conf_matrix = confusion_matrix(target, predictions)\n",
        "\n",
        "# Plot confusion matrix using seaborn heatmap\n",
        "plt.figure(figsize=(8,6))\n",
        "sns.heatmap(conf_matrix, annot=True, fmt='d', cmap='Blues', xticklabels=np.unique(target), yticklabels=np.unique(target))\n",
        "plt.title(\"Confusion Matrix\")\n",
        "plt.xlabel('Predicted Labels')\n",
        "plt.ylabel('True Labels')\n",
        "plt.show()\n"
      ],
      "metadata": {
        "colab": {
          "base_uri": "https://localhost:8080/",
          "height": 966
        },
        "id": "OCPVgRfRqvAH",
        "outputId": "8674bb8d-6555-408e-cb5f-2252df81b934"
      },
      "execution_count": null,
      "outputs": [
        {
          "output_type": "stream",
          "name": "stdout",
          "text": [
            "   PassengerId  Survived  Pclass  \\\n",
            "0            1         0       3   \n",
            "1            2         1       1   \n",
            "2            3         1       3   \n",
            "3            4         1       1   \n",
            "4            5         0       3   \n",
            "\n",
            "                                                Name     Sex  SibSp  Parch  \\\n",
            "0                            Braund, Mr. Owen Harris    male      1      0   \n",
            "1  Cumings, Mrs. John Bradley (Florence Briggs Th...  female      1      0   \n",
            "2                             Heikkinen, Miss. Laina  female      0      0   \n",
            "3       Futrelle, Mrs. Jacques Heath (Lily May Peel)  female      1      0   \n",
            "4                           Allen, Mr. William Henry    male      0      0   \n",
            "\n",
            "             Ticket     Fare Cabin Embarked  \n",
            "0         A/5 21171   7.2500   NaN        S  \n",
            "1          PC 17599  71.2833   C85        C  \n",
            "2  STON/O2. 3101282   7.9250   NaN        S  \n",
            "3            113803  53.1000  C123        S  \n",
            "4            373450   8.0500   NaN        S  \n",
            "Cross-validation scores: [0.80898876 0.78651685 0.7752809  0.84269663 0.78651685 0.7752809\n",
            " 0.7752809  0.76404494 0.83146067 0.78409091]\n"
          ]
        },
        {
          "output_type": "display_data",
          "data": {
            "text/plain": [
              "<Figure size 800x600 with 2 Axes>"
            ],
            "image/png": "[encoded data removed]"
          },
          "metadata": {}
        }
      ]
    },
    {
      "cell_type": "code",
      "source": [
        "from sklearn import datasets\n",
        "from sklearn.linear_model import LinearRegression\n",
        "h = datasets.fetch_california_housing()\n",
        "x= h.data\n",
        "y=h.target\n",
        "modelh=LinearRegression()\n",
        "modelh.fit(x,y)\n",
        "y1=modelh.predict([x[0]])\n",
        "print(y1,\"The Predicted value\")\n",
        "print(y[0],\"The actual value  \")\n",
        "\n",
        "x[0]\n"
      ],
      "metadata": {
        "colab": {
          "base_uri": "https://localhost:8080/"
        },
        "id": "OVZLtikVOKfN",
        "outputId": "8545d243-a663-483f-b5cf-008998bc3acc"
      },
      "execution_count": null,
      "outputs": [
        {
          "output_type": "stream",
          "name": "stdout",
          "text": [
            "[4.13164983] The Predicted value\n",
            "4.526 The actual value  \n"
          ]
        },
        {
          "output_type": "execute_result",
          "data": {
            "text/plain": [
              "array([   8.3252    ,   41.        ,    6.98412698,    1.02380952,\n",
              "        322.        ,    2.55555556,   37.88      , -122.23      ])"
            ]
          },
          "metadata": {},
          "execution_count": 7
        }
      ]
    },
    {
      "cell_type": "code",
      "source": [
        "from sklearn.linear_model import LinearRegression\n",
        "from sklearn.preprocessing import PolynomialFeatures\n",
        "interaction =PolynomialFeatures(degree=5,include_bias=False,interaction_only=True)\n",
        "featureH=interaction.fit_transform(x)\n",
        "poly_reg=LinearRegression()\n",
        "poly_reg.fit(featureH,y)\n",
        "\n",
        "poly_reg.predict([featureH[0]])\n",
        "\n",
        "print(poly_reg.intercept_)\n",
        "print(poly_reg.coef_)\n",
        "\n"
      ],
      "metadata": {
        "colab": {
          "base_uri": "https://localhost:8080/"
        },
        "id": "S6rEpxcQZvIn",
        "outputId": "eab1ea6e-e76a-48d0-b927-b4eb01211b94"
      },
      "execution_count": null,
      "outputs": [
        {
          "output_type": "stream",
          "name": "stdout",
          "text": [
            "10.547105889077404\n",
            "[-6.37316626e-04 -3.54058207e-04 -6.13440564e-04 -5.60665398e-04\n",
            "  1.44674639e-02  7.94470503e-05 -2.77815171e-03 -1.24926782e-02\n",
            " -7.64913831e-04 -5.33766770e-04 -1.28242513e-03  3.96941903e-02\n",
            " -1.65108800e-03 -1.85963694e-02  1.64039958e-02 -8.58496454e-03\n",
            " -4.50863173e-03 -6.17417669e-03 -5.18523153e-03  3.00456600e-02\n",
            "  1.38405250e-02 -1.35213261e-03  2.16869874e-02 -1.04334519e-03\n",
            " -6.41737470e-03  1.90712735e-02 -7.30240007e-03 -8.01081054e-04\n",
            " -1.07898496e-02  2.26458311e-02  5.83064640e-02 -1.09108418e-03\n",
            "  4.91000757e-04 -7.88918936e-03 -5.17252621e-02  1.98049080e-03\n",
            " -3.97073878e-03 -3.05212060e-03 -7.80654545e-04 -7.78096049e-03\n",
            " -1.21877058e-02 -4.52914679e-03 -2.73069544e-03  5.93704510e-03\n",
            " -1.75026677e-03 -1.79167879e-02 -1.38435583e-02 -6.69304035e-02\n",
            " -4.71006879e-04 -2.79214568e-02  4.60053112e-02 -4.27173618e-03\n",
            " -1.82852658e-03  2.20400075e-04 -4.97350913e-02  7.84719014e-03\n",
            " -4.91834330e-04 -2.81516787e-02 -5.76924200e-04 -3.31454889e-02\n",
            "  8.64296403e-03 -3.66485216e-04  3.05048917e-04 -5.34323915e-03\n",
            " -9.82404656e-02 -1.51039852e-02  8.62688425e-04  3.22903962e-04\n",
            " -5.09578917e-05 -3.39427233e-02 -3.70535545e-03 -1.09819273e-04\n",
            "  6.52718188e-03 -2.51698378e-03 -1.03321509e-02 -3.52711105e-04\n",
            " -7.24308376e-03  4.49737764e-04  2.70334453e-04  1.69031587e-03\n",
            "  2.69578321e-03 -4.32693897e-04 -3.60788254e-02 -2.88524228e-03\n",
            " -7.77408494e-04 -7.85814962e-03  3.85972134e-02 -7.10371559e-04\n",
            " -1.61350882e-03  3.72078224e-04 -2.02163972e-05  1.48525618e-03\n",
            "  3.79267912e-02  1.03453100e-04 -5.41962310e-03  4.11928262e-03\n",
            "  9.02404302e-04 -3.51995695e-04  3.11238334e-02 -3.35706677e-02\n",
            " -2.84680185e-03  1.18915259e-05  1.43338365e-05 -7.13139436e-06\n",
            "  5.68519934e-03  9.22815153e-04  1.83387900e-05  9.78299965e-04\n",
            " -6.17488687e-03  4.62864789e-03  1.50899881e-04  8.06722611e-04\n",
            " -3.54900931e-04  3.44161815e-05 -1.13938108e-03  1.44829537e-03\n",
            "  2.10722783e-04 -1.07235722e-02  3.20715784e-03 -4.07502396e-04\n",
            " -2.40625538e-03 -2.07967471e-02 -1.63566411e-03  4.86658971e-04\n",
            "  9.31126634e-06 -1.19510581e-05 -6.67572739e-04  3.58286220e-04\n",
            " -1.23060984e-01  5.89816075e-03  3.95970035e-04  2.17119416e-04\n",
            " -3.34589745e-05 -8.67449311e-06 -2.05779339e-04 -3.69884813e-04\n",
            "  7.23147168e-05  4.81844317e-04  1.60344455e-05  1.77154197e-05\n",
            "  5.99076591e-02  5.38876446e-03 -4.00240349e-04 -6.93718017e-05\n",
            "  6.43419279e-06  2.70653786e-06 -1.87638442e-04 -2.59014783e-04\n",
            " -3.89624302e-04  4.57245494e-05  4.30320398e-03 -3.53666706e-03\n",
            " -9.04012079e-05  1.59124889e-05 -7.78809329e-05  1.28854450e-06\n",
            " -9.83839278e-05  1.92080368e-03 -1.00101479e-04 -3.03453960e-06\n",
            " -1.08593247e-03 -1.00383512e-05 -3.85867846e-07 -2.22165498e-04\n",
            " -7.24042843e-06  3.09341333e-04 -7.85311805e-08  1.29516596e-06\n",
            "  1.24451456e-06 -4.86658799e-04 -2.00853365e-04  9.28949164e-06\n",
            "  5.13095916e-06 -4.84553129e-06 -4.32571314e-06  9.45154461e-04\n",
            "  5.20172811e-04 -1.99295038e-04  2.11685566e-07  2.10566534e-07\n",
            "  1.33908134e-07  2.15103571e-05  1.94962405e-05  8.75562274e-06\n",
            "  1.14939076e-05  2.96396524e-03  8.06079676e-04  3.99371862e-05\n",
            "  8.56398304e-06  9.35031694e-06 -2.55010864e-06 -4.55233184e-05\n",
            " -1.87495077e-04 -1.43280699e-04  2.23010291e-05  5.84315718e-04\n",
            "  2.75379358e-06  2.82297095e-06  1.69237438e-06  3.60534322e-06\n",
            " -7.32459899e-04 -1.26323670e-03  3.28247964e-05  2.40504771e-06\n",
            "  2.52871356e-06 -1.71191288e-07  3.28921977e-06 -1.11092244e-05\n",
            "  1.09196201e-06 -3.27943172e-07  3.47962253e-04 -5.66027695e-07\n",
            " -5.71664965e-06 -3.13635134e-06 -3.09414550e-06  1.33723571e-04\n",
            "  6.18002478e-07  1.01041581e-05]\n"
          ]
        }
      ]
    },
    {
      "cell_type": "code",
      "source": [
        "from sklearn import datasets\n",
        "from sklearn.linear_model import Lasso\n",
        "from sklearn.model_selection import train_test_split\n",
        "from sklearn.metrics import mean_squared_error\n",
        "h = datasets.fetch_california_housing()\n",
        "x=h.data\n",
        "y=h.target\n",
        "lasso =Lasso(alpha=0.1)\n",
        "lasso.fit(x,y)\n",
        "print(lasso.predict([x[0]]))\n",
        "print(lasso.score(x,y))\n",
        "print(lasso.coef_)"
      ],
      "metadata": {
        "colab": {
          "base_uri": "https://localhost:8080/"
        },
        "id": "56eORlYLbZqQ",
        "outputId": "a33ff0ab-505b-4575-bc25-3bc0fe5d7ab6"
      },
      "execution_count": null,
      "outputs": [
        {
          "output_type": "stream",
          "name": "stdout",
          "text": [
            "[3.98443921]\n",
            "0.5452665703368436\n",
            "[ 3.90582557e-01  1.50821512e-02 -0.00000000e+00  0.00000000e+00\n",
            "  1.75019561e-05 -3.32253135e-03 -1.14214430e-01 -9.92250689e-02]\n"
          ]
        }
      ]
    },
    {
      "cell_type": "code",
      "source": [
        "from sklearn.linear_model import RidgeCV\n",
        "from sklearn.linear_model import Ridge\n",
        "my_ridge_cv = RidgeCV(alphas=[0.01, 0.1, 1, 10], cv=5)\n",
        "my_ridge_cv.fit(x,y)\n",
        "my_ridge_cv.coef_\n",
        "my_ridge_model=Ridge(alpha=0.1)\n",
        "my_ridge_model.fit(x,y)\n",
        "print(\"The Prediction \",my_ridge_model.predict([x[0]]))\n",
        "print(my_ridge_model.score(x,y))\n",
        "print(my_ridge_model.coef_)"
      ],
      "metadata": {
        "colab": {
          "base_uri": "https://localhost:8080/"
        },
        "id": "8J1LYNcHgxmP",
        "outputId": "f348d838-2059-4527-cfb2-338bfeb00472"
      },
      "execution_count": null,
      "outputs": [
        {
          "output_type": "error",
          "ename": "NameError",
          "evalue": "name 'x' is not defined",
          "traceback": [
            "\u001b[0;31m---------------------------------------------------------------------------\u001b[0m",
            "\u001b[0;31mNameError\u001b[0m                                 Traceback (most recent call last)",
            "\u001b[0;32m<ipython-input-1-63b3e0a14cb8>\u001b[0m in \u001b[0;36m<cell line: 4>\u001b[0;34m()\u001b[0m\n\u001b[1;32m      2\u001b[0m \u001b[0;32mfrom\u001b[0m \u001b[0msklearn\u001b[0m\u001b[0;34m.\u001b[0m\u001b[0mlinear_model\u001b[0m \u001b[0;32mimport\u001b[0m \u001b[0mRidge\u001b[0m\u001b[0;34m\u001b[0m\u001b[0;34m\u001b[0m\u001b[0m\n\u001b[1;32m      3\u001b[0m \u001b[0mmy_ridge_cv\u001b[0m \u001b[0;34m=\u001b[0m \u001b[0mRidgeCV\u001b[0m\u001b[0;34m(\u001b[0m\u001b[0malphas\u001b[0m\u001b[0;34m=\u001b[0m\u001b[0;34m[\u001b[0m\u001b[0;36m0.01\u001b[0m\u001b[0;34m,\u001b[0m \u001b[0;36m0.1\u001b[0m\u001b[0;34m,\u001b[0m \u001b[0;36m1\u001b[0m\u001b[0;34m,\u001b[0m \u001b[0;36m10\u001b[0m\u001b[0;34m]\u001b[0m\u001b[0;34m,\u001b[0m \u001b[0mcv\u001b[0m\u001b[0;34m=\u001b[0m\u001b[0;36m5\u001b[0m\u001b[0;34m)\u001b[0m\u001b[0;34m\u001b[0m\u001b[0;34m\u001b[0m\u001b[0m\n\u001b[0;32m----> 4\u001b[0;31m \u001b[0mmy_ridge_cv\u001b[0m\u001b[0;34m.\u001b[0m\u001b[0mfit\u001b[0m\u001b[0;34m(\u001b[0m\u001b[0mx\u001b[0m\u001b[0;34m,\u001b[0m\u001b[0my\u001b[0m\u001b[0;34m)\u001b[0m\u001b[0;34m\u001b[0m\u001b[0;34m\u001b[0m\u001b[0m\n\u001b[0m\u001b[1;32m      5\u001b[0m \u001b[0mmy_ridge_cv\u001b[0m\u001b[0;34m.\u001b[0m\u001b[0mcoef_\u001b[0m\u001b[0;34m\u001b[0m\u001b[0;34m\u001b[0m\u001b[0m\n\u001b[1;32m      6\u001b[0m \u001b[0mmy_ridge_model\u001b[0m\u001b[0;34m=\u001b[0m\u001b[0mRidge\u001b[0m\u001b[0;34m(\u001b[0m\u001b[0malpha\u001b[0m\u001b[0;34m=\u001b[0m\u001b[0;36m0.1\u001b[0m\u001b[0;34m)\u001b[0m\u001b[0;34m\u001b[0m\u001b[0;34m\u001b[0m\u001b[0m\n",
            "\u001b[0;31mNameError\u001b[0m: name 'x' is not defined"
          ]
        }
      ]
    },
    {
      "cell_type": "code",
      "source": [
        "from sklearn.svm import LinearSVC\n",
        "from sklearn import datasets\n",
        "from sklearn.preprocessing import StandardScaler\n",
        "import numpy as np\n",
        "iris = datasets.load_iris()\n",
        "features=iris.data[:100,:2]\n",
        "target = iris.target[:100]\n",
        "\n",
        "scaler=StandardScaler()\n",
        "features_standardized = scaler.fit_transform(features)\n",
        "svc=LinearSVC(C=1.0)\n",
        "model=svc.fit(features_standardized,target)\n",
        "import matplotlib.pyplot as plt\n",
        "import numpy as np\n",
        "color=[\"black\" if c==0 else \"blue\" for c in target]\n",
        "plt.scatter(features_standardized[:,0],features_standardized[:,1],c=color)\n",
        "w=model.coef_[0]\n",
        "a=-(w[0]/w[1])*1.1\n",
        "xx=np.linspace(-2,2)\n",
        "yy=a*xx-(svc.intercept_[0])/w[1]\n",
        "plt.plot(xx,yy)\n",
        "plt.axis(\"off\"),plt.show();\n",
        "# result=model.predict(model[0])"
      ],
      "metadata": {
        "colab": {
          "base_uri": "https://localhost:8080/",
          "height": 406
        },
        "id": "y-FZArkNbFzF",
        "outputId": "1b3a51d7-c756-4ca2-c10c-876e005ad6fe"
      },
      "execution_count": null,
      "outputs": [
        {
          "output_type": "display_data",
          "data": {
            "text/plain": [
              "<Figure size 640x480 with 1 Axes>"
            ],
            "image/png": "[encoded data removed]"
          },
          "metadata": {}
        }
      ]
    },
    {
      "cell_type": "code",
      "source": [
        "from sklearn.svm import LinearSVC\n",
        "from sklearn import datasets\n",
        "from sklearn.preprocessing import StandardScaler\n",
        "import numpy as np\n",
        "iris = datasets.load_iris()\n",
        "features=iris.data[:100,:2]\n",
        "target = iris.target[:100]\n",
        "\n",
        "scaler=StandardScaler()\n",
        "features_standardized = scaler.fit_transform(features)\n",
        "\n",
        "svc=SVC(kernel=\"linear\",random_state=0)\n",
        "model =svc.fit(features_standardized,target)\n",
        "print(model.support_vectors_)\n",
        "print(model.support_)\n"
      ],
      "metadata": {
        "colab": {
          "base_uri": "https://localhost:8080/"
        },
        "id": "R_0OrvA5iiNB",
        "outputId": "0525db91-063d-4e3b-affb-132ab4a88be5"
      },
      "execution_count": null,
      "outputs": [
        {
          "output_type": "stream",
          "name": "stdout",
          "text": [
            "[[-0.11120129  0.63190269]\n",
            " [-0.73768744 -0.2078351 ]\n",
            " [-0.11120129  0.63190269]\n",
            " [ 0.04542025  0.84183714]\n",
            " [-1.52079513 -1.67737625]\n",
            " [-0.89430898 -1.4674418 ]\n",
            " [-0.42444437 -0.83763845]\n",
            " [-0.11120129 -0.2078351 ]\n",
            " [ 0.82852793  0.63190269]\n",
            " [ 0.20204178 -0.2078351 ]]\n",
            "[20 25 31 36 41 57 59 84 85 88]\n"
          ]
        }
      ]
    },
    {
      "cell_type": "code",
      "source": [
        "from sklearn import datasets\n",
        "from sklearn.cluster import MiniBatchKMeans\n",
        "\n",
        "\n",
        "\n",
        "iris=datasets.load_iris()\n",
        "feature=iris.data\n",
        "\n",
        "scaler=StandardScaler()\n",
        "features_std=scaler.fit_transform(features)\n",
        "features_std[0]\n",
        "cluster=MiniBatchKMeans(n_clusters=3,random_state=0,batch_size=50)\n",
        "# cluster= KMeans(n_clusters=3, random_state=0)\n",
        "model=cluster.fit(features_std)\n",
        "model.labels_\n"
      ],
      "metadata": {
        "id": "tXdnK27yybah",
        "colab": {
          "base_uri": "https://localhost:8080/"
        },
        "outputId": "2c22de3a-46b1-4f77-fe56-4318b071e571"
      },
      "execution_count": null,
      "outputs": [
        {
          "output_type": "execute_result",
          "data": {
            "text/plain": [
              "array([1, 1, 1, 1, 1, 1, 1, 1, 1, 1, 1, 1, 1, 1, 1, 1, 1, 1, 1, 1, 1, 1,\n",
              "       1, 1, 1, 1, 1, 1, 1, 1, 1, 1, 1, 1, 1, 1, 1, 1, 1, 1, 1, 1, 1, 1,\n",
              "       1, 1, 1, 1, 1, 1, 2, 2, 2, 0, 0, 0, 2, 0, 0, 0, 0, 0, 0, 0, 0, 2,\n",
              "       0, 0, 0, 0, 2, 0, 0, 0, 0, 2, 2, 2, 0, 0, 0, 0, 0, 0, 0, 2, 2, 0,\n",
              "       0, 0, 0, 0, 0, 0, 0, 0, 0, 0, 0, 0, 2, 0, 2, 2, 2, 2, 0, 2, 2, 2,\n",
              "       2, 2, 2, 0, 0, 2, 2, 2, 2, 0, 2, 0, 2, 0, 2, 2, 0, 2, 2, 2, 2, 2,\n",
              "       2, 0, 0, 2, 2, 2, 0, 2, 2, 2, 0, 2, 2, 2, 0, 2, 2, 0], dtype=int32)"
            ]
          },
          "metadata": {},
          "execution_count": 5
        }
      ]
    },
    {
      "cell_type": "code",
      "source": [
        "from sklearn.cluster import DBSCAN\n",
        "from sklearn import datasets\n",
        "from sklearn.preprocessing import StandardScaler\n",
        "iris=datasets.load_iris()\n",
        "features=iris.data\n",
        "scaler=StandardScaler()\n",
        "features_std=scaler.fit_transform(features)\n",
        "cluster=DBSCAN(n_jobs=-1)\n",
        "model=cluster.fit(features_std)\n",
        "model.labels_"
      ],
      "metadata": {
        "colab": {
          "base_uri": "https://localhost:8080/"
        },
        "id": "k0EeoUI33W9d",
        "outputId": "f55f2c31-7e37-4aea-d1ee-9a3be76784ee"
      },
      "execution_count": null,
      "outputs": [
        {
          "output_type": "execute_result",
          "data": {
            "text/plain": [
              "array([ 0,  0,  0,  0,  0,  0,  0,  0,  0,  0,  0,  0,  0,  0, -1, -1,  0,\n",
              "        0,  0,  0,  0,  0,  0,  0,  0,  0,  0,  0,  0,  0,  0,  0, -1, -1,\n",
              "        0,  0,  0,  0,  0,  0,  0, -1,  0,  0,  0,  0,  0,  0,  0,  0,  1,\n",
              "        1,  1,  1,  1,  1, -1, -1,  1, -1, -1,  1, -1,  1,  1,  1,  1,  1,\n",
              "       -1,  1,  1,  1, -1,  1,  1,  1,  1,  1,  1,  1,  1,  1,  1,  1,  1,\n",
              "       -1,  1, -1,  1,  1,  1,  1,  1, -1,  1,  1,  1,  1, -1,  1, -1,  1,\n",
              "        1,  1,  1, -1, -1, -1, -1, -1,  1,  1,  1,  1, -1,  1,  1, -1, -1,\n",
              "       -1,  1,  1, -1,  1,  1, -1,  1,  1,  1, -1, -1, -1,  1,  1,  1, -1,\n",
              "       -1,  1,  1,  1,  1,  1,  1,  1,  1,  1,  1,  1, -1,  1])"
            ]
          },
          "metadata": {},
          "execution_count": 4
        }
      ]
    },
    {
      "cell_type": "code",
      "source": [
        "from sklearn.cluster import AgglomerativeClustering"
      ],
      "metadata": {
        "id": "Zx3ZOtNg391D"
      },
      "execution_count": null,
      "outputs": []
    },
    {
      "cell_type": "markdown",
      "source": [
        "## `Gaussian Naive Bayes`\n",
        "\n",
        "\n",
        "\n",
        "\n",
        "\n",
        "\n"
      ],
      "metadata": {
        "id": "1MaK7Vwtc1Ej"
      }
    },
    {
      "cell_type": "code",
      "source": [
        "import pandas as pd\n",
        "data = pd.read_csv(\"obesity.csv\")\n",
        "from sklearn.preprocessing import StandardScaler\n",
        "scaler = StandardScaler()\n",
        "data.head()"
      ],
      "metadata": {
        "colab": {
          "base_uri": "https://localhost:8080/",
          "height": 226
        },
        "id": "uzpbAgvkSeg_",
        "outputId": "467269b5-b6a3-494a-a62a-51419b69a269"
      },
      "execution_count": null,
      "outputs": [
        {
          "output_type": "execute_result",
          "data": {
            "text/plain": [
              "   Gender   Age  Height  Weight family_history_with_overweight FAVC  FCVC  \\\n",
              "0  Female  21.0    1.62    64.0                            yes   no   2.0   \n",
              "1  Female  21.0    1.52    56.0                            yes   no   3.0   \n",
              "2    Male  23.0    1.80    77.0                            yes   no   2.0   \n",
              "3    Male  27.0    1.80    87.0                             no   no   3.0   \n",
              "4    Male  22.0    1.78    89.8                             no   no   2.0   \n",
              "\n",
              "   NCP       CAEC SMOKE  CH2O  SCC  FAF  TUE        CALC  \\\n",
              "0  3.0  Sometimes    no   2.0   no  0.0  1.0          no   \n",
              "1  3.0  Sometimes   yes   3.0  yes  3.0  0.0   Sometimes   \n",
              "2  3.0  Sometimes    no   2.0   no  2.0  1.0  Frequently   \n",
              "3  3.0  Sometimes    no   2.0   no  2.0  0.0  Frequently   \n",
              "4  1.0  Sometimes    no   2.0   no  0.0  0.0   Sometimes   \n",
              "\n",
              "                  MTRANS           NObeyesdad  \n",
              "0  Public_Transportation        Normal_Weight  \n",
              "1  Public_Transportation        Normal_Weight  \n",
              "2  Public_Transportation        Normal_Weight  \n",
              "3                Walking   Overweight_Level_I  \n",
              "4  Public_Transportation  Overweight_Level_II  "
            ],
            "text/html": [
              "\n",
              "  <div id=\"df-f9805a87-e7a8-4228-bb4b-b5c812ad57ed\" class=\"colab-df-container\">\n",
              "    <div>\n",
              "<style scoped>\n",
              "    .dataframe tbody tr th:only-of-type {\n",
              "        vertical-align: middle;\n",
              "    }\n",
              "\n",
              "    .dataframe tbody tr th {\n",
              "        vertical-align: top;\n",
              "    }\n",
              "\n",
              "    .dataframe thead th {\n",
              "        text-align: right;\n",
              "    }\n",
              "</style>\n",
              "<table border=\"1\" class=\"dataframe\">\n",
              "  <thead>\n",
              "    <tr style=\"text-align: right;\">\n",
              "      <th></th>\n",
              "      <th>Gender</th>\n",
              "      <th>Age</th>\n",
              "      <th>Height</th>\n",
              "      <th>Weight</th>\n",
              "      <th>family_history_with_overweight</th>\n",
              "      <th>FAVC</th>\n",
              "      <th>FCVC</th>\n",
              "      <th>NCP</th>\n",
              "      <th>CAEC</th>\n",
              "      <th>SMOKE</th>\n",
              "      <th>CH2O</th>\n",
              "      <th>SCC</th>\n",
              "      <th>FAF</th>\n",
              "      <th>TUE</th>\n",
              "      <th>CALC</th>\n",
              "      <th>MTRANS</th>\n",
              "      <th>NObeyesdad</th>\n",
              "    </tr>\n",
              "  </thead>\n",
              "  <tbody>\n",
              "    <tr>\n",
              "      <th>0</th>\n",
              "      <td>Female</td>\n",
              "      <td>21.0</td>\n",
              "      <td>1.62</td>\n",
              "      <td>64.0</td>\n",
              "      <td>yes</td>\n",
              "      <td>no</td>\n",
              "      <td>2.0</td>\n",
              "      <td>3.0</td>\n",
              "      <td>Sometimes</td>\n",
              "      <td>no</td>\n",
              "      <td>2.0</td>\n",
              "      <td>no</td>\n",
              "      <td>0.0</td>\n",
              "      <td>1.0</td>\n",
              "      <td>no</td>\n",
              "      <td>Public_Transportation</td>\n",
              "      <td>Normal_Weight</td>\n",
              "    </tr>\n",
              "    <tr>\n",
              "      <th>1</th>\n",
              "      <td>Female</td>\n",
              "      <td>21.0</td>\n",
              "      <td>1.52</td>\n",
              "      <td>56.0</td>\n",
              "      <td>yes</td>\n",
              "      <td>no</td>\n",
              "      <td>3.0</td>\n",
              "      <td>3.0</td>\n",
              "      <td>Sometimes</td>\n",
              "      <td>yes</td>\n",
              "      <td>3.0</td>\n",
              "      <td>yes</td>\n",
              "      <td>3.0</td>\n",
              "      <td>0.0</td>\n",
              "      <td>Sometimes</td>\n",
              "      <td>Public_Transportation</td>\n",
              "      <td>Normal_Weight</td>\n",
              "    </tr>\n",
              "    <tr>\n",
              "      <th>2</th>\n",
              "      <td>Male</td>\n",
              "      <td>23.0</td>\n",
              "      <td>1.80</td>\n",
              "      <td>77.0</td>\n",
              "      <td>yes</td>\n",
              "      <td>no</td>\n",
              "      <td>2.0</td>\n",
              "      <td>3.0</td>\n",
              "      <td>Sometimes</td>\n",
              "      <td>no</td>\n",
              "      <td>2.0</td>\n",
              "      <td>no</td>\n",
              "      <td>2.0</td>\n",
              "      <td>1.0</td>\n",
              "      <td>Frequently</td>\n",
              "      <td>Public_Transportation</td>\n",
              "      <td>Normal_Weight</td>\n",
              "    </tr>\n",
              "    <tr>\n",
              "      <th>3</th>\n",
              "      <td>Male</td>\n",
              "      <td>27.0</td>\n",
              "      <td>1.80</td>\n",
              "      <td>87.0</td>\n",
              "      <td>no</td>\n",
              "      <td>no</td>\n",
              "      <td>3.0</td>\n",
              "      <td>3.0</td>\n",
              "      <td>Sometimes</td>\n",
              "      <td>no</td>\n",
              "      <td>2.0</td>\n",
              "      <td>no</td>\n",
              "      <td>2.0</td>\n",
              "      <td>0.0</td>\n",
              "      <td>Frequently</td>\n",
              "      <td>Walking</td>\n",
              "      <td>Overweight_Level_I</td>\n",
              "    </tr>\n",
              "    <tr>\n",
              "      <th>4</th>\n",
              "      <td>Male</td>\n",
              "      <td>22.0</td>\n",
              "      <td>1.78</td>\n",
              "      <td>89.8</td>\n",
              "      <td>no</td>\n",
              "      <td>no</td>\n",
              "      <td>2.0</td>\n",
              "      <td>1.0</td>\n",
              "      <td>Sometimes</td>\n",
              "      <td>no</td>\n",
              "      <td>2.0</td>\n",
              "      <td>no</td>\n",
              "      <td>0.0</td>\n",
              "      <td>0.0</td>\n",
              "      <td>Sometimes</td>\n",
              "      <td>Public_Transportation</td>\n",
              "      <td>Overweight_Level_II</td>\n",
              "    </tr>\n",
              "  </tbody>\n",
              "</table>\n",
              "</div>\n",
              "    <div class=\"colab-df-buttons\">\n",
              "\n",
              "  <div class=\"colab-df-container\">\n",
              "    <button class=\"colab-df-convert\" onclick=\"convertToInteractive('df-f9805a87-e7a8-4228-bb4b-b5c812ad57ed')\"\n",
              "            title=\"Convert this dataframe to an interactive table.\"\n",
              "            style=\"display:none;\">\n",
              "\n",
              "  <svg xmlns=\"http://www.w3.org/2000/svg\" height=\"24px\" viewBox=\"0 -960 960 960\">\n",
              "    <path d=\"M120-120v-720h720v720H120Zm60-500h600v-160H180v160Zm220 220h160v-160H400v160Zm0 220h160v-160H400v160ZM180-400h160v-160H180v160Zm440 0h160v-160H620v160ZM180-180h160v-160H180v160Zm440 0h160v-160H620v160Z\"/>\n",
              "  </svg>\n",
              "    </button>\n",
              "\n",
              "  <style>\n",
              "    .colab-df-container {\n",
              "      display:flex;\n",
              "      gap: 12px;\n",
              "    }\n",
              "\n",
              "    .colab-df-convert {\n",
              "      background-color: #E8F0FE;\n",
              "      border: none;\n",
              "      border-radius: 50%;\n",
              "      cursor: pointer;\n",
              "      display: none;\n",
              "      fill: #1967D2;\n",
              "      height: 32px;\n",
              "      padding: 0 0 0 0;\n",
              "      width: 32px;\n",
              "    }\n",
              "\n",
              "    .colab-df-convert:hover {\n",
              "      background-color: #E2EBFA;\n",
              "      box-shadow: 0px 1px 2px rgba(60, 64, 67, 0.3), 0px 1px 3px 1px rgba(60, 64, 67, 0.15);\n",
              "      fill: #174EA6;\n",
              "    }\n",
              "\n",
              "    .colab-df-buttons div {\n",
              "      margin-bottom: 4px;\n",
              "    }\n",
              "\n",
              "    [theme=dark] .colab-df-convert {\n",
              "      background-color: #3B4455;\n",
              "      fill: #D2E3FC;\n",
              "    }\n",
              "\n",
              "    [theme=dark] .colab-df-convert:hover {\n",
              "      background-color: #434B5C;\n",
              "      box-shadow: 0px 1px 3px 1px rgba(0, 0, 0, 0.15);\n",
              "      filter: drop-shadow(0px 1px 2px rgba(0, 0, 0, 0.3));\n",
              "      fill: #FFFFFF;\n",
              "    }\n",
              "  </style>\n",
              "\n",
              "    <script>\n",
              "      const buttonEl =\n",
              "        document.querySelector('#df-f9805a87-e7a8-4228-bb4b-b5c812ad57ed button.colab-df-convert');\n",
              "      buttonEl.style.display =\n",
              "        google.colab.kernel.accessAllowed ? 'block' : 'none';\n",
              "\n",
              "      async function convertToInteractive(key) {\n",
              "        const element = document.querySelector('#df-f9805a87-e7a8-4228-bb4b-b5c812ad57ed');\n",
              "        const dataTable =\n",
              "          await google.colab.kernel.invokeFunction('convertToInteractive',\n",
              "                                                    [key], {});\n",
              "        if (!dataTable) return;\n",
              "\n",
              "        const docLinkHtml = 'Like what you see? Visit the ' +\n",
              "          '<a target=\"_blank\" href=https://colab.research.google.com/notebooks/data_table.ipynb>data table notebook</a>'\n",
              "          + ' to learn more about interactive tables.';\n",
              "        element.innerHTML = '';\n",
              "        dataTable['output_type'] = 'display_data';\n",
              "        await google.colab.output.renderOutput(dataTable, element);\n",
              "        const docLink = document.createElement('div');\n",
              "        docLink.innerHTML = docLinkHtml;\n",
              "        element.appendChild(docLink);\n",
              "      }\n",
              "    </script>\n",
              "  </div>\n",
              "\n",
              "\n",
              "<div id=\"df-38780cef-3d5c-4d9c-97b4-e687f89bd162\">\n",
              "  <button class=\"colab-df-quickchart\" onclick=\"quickchart('df-38780cef-3d5c-4d9c-97b4-e687f89bd162')\"\n",
              "            title=\"Suggest charts\"\n",
              "            style=\"display:none;\">\n",
              "\n",
              "<svg xmlns=\"http://www.w3.org/2000/svg\" height=\"24px\"viewBox=\"0 0 24 24\"\n",
              "     width=\"24px\">\n",
              "    <g>\n",
              "        <path d=\"M19 3H5c-1.1 0-2 .9-2 2v14c0 1.1.9 2 2 2h14c1.1 0 2-.9 2-2V5c0-1.1-.9-2-2-2zM9 17H7v-7h2v7zm4 0h-2V7h2v10zm4 0h-2v-4h2v4z\"/>\n",
              "    </g>\n",
              "</svg>\n",
              "  </button>\n",
              "\n",
              "<style>\n",
              "  .colab-df-quickchart {\n",
              "      --bg-color: #E8F0FE;\n",
              "      --fill-color: #1967D2;\n",
              "      --hover-bg-color: #E2EBFA;\n",
              "      --hover-fill-color: #174EA6;\n",
              "      --disabled-fill-color: #AAA;\n",
              "      --disabled-bg-color: #DDD;\n",
              "  }\n",
              "\n",
              "  [theme=dark] .colab-df-quickchart {\n",
              "      --bg-color: #3B4455;\n",
              "      --fill-color: #D2E3FC;\n",
              "      --hover-bg-color: #434B5C;\n",
              "      --hover-fill-color: #FFFFFF;\n",
              "      --disabled-bg-color: #3B4455;\n",
              "      --disabled-fill-color: #666;\n",
              "  }\n",
              "\n",
              "  .colab-df-quickchart {\n",
              "    background-color: var(--bg-color);\n",
              "    border: none;\n",
              "    border-radius: 50%;\n",
              "    cursor: pointer;\n",
              "    display: none;\n",
              "    fill: var(--fill-color);\n",
              "    height: 32px;\n",
              "    padding: 0;\n",
              "    width: 32px;\n",
              "  }\n",
              "\n",
              "  .colab-df-quickchart:hover {\n",
              "    background-color: var(--hover-bg-color);\n",
              "    box-shadow: 0 1px 2px rgba(60, 64, 67, 0.3), 0 1px 3px 1px rgba(60, 64, 67, 0.15);\n",
              "    fill: var(--button-hover-fill-color);\n",
              "  }\n",
              "\n",
              "  .colab-df-quickchart-complete:disabled,\n",
              "  .colab-df-quickchart-complete:disabled:hover {\n",
              "    background-color: var(--disabled-bg-color);\n",
              "    fill: var(--disabled-fill-color);\n",
              "    box-shadow: none;\n",
              "  }\n",
              "\n",
              "  .colab-df-spinner {\n",
              "    border: 2px solid var(--fill-color);\n",
              "    border-color: transparent;\n",
              "    border-bottom-color: var(--fill-color);\n",
              "    animation:\n",
              "      spin 1s steps(1) infinite;\n",
              "  }\n",
              "\n",
              "  @keyframes spin {\n",
              "    0% {\n",
              "      border-color: transparent;\n",
              "      border-bottom-color: var(--fill-color);\n",
              "      border-left-color: var(--fill-color);\n",
              "    }\n",
              "    20% {\n",
              "      border-color: transparent;\n",
              "      border-left-color: var(--fill-color);\n",
              "      border-top-color: var(--fill-color);\n",
              "    }\n",
              "    30% {\n",
              "      border-color: transparent;\n",
              "      border-left-color: var(--fill-color);\n",
              "      border-top-color: var(--fill-color);\n",
              "      border-right-color: var(--fill-color);\n",
              "    }\n",
              "    40% {\n",
              "      border-color: transparent;\n",
              "      border-right-color: var(--fill-color);\n",
              "      border-top-color: var(--fill-color);\n",
              "    }\n",
              "    60% {\n",
              "      border-color: transparent;\n",
              "      border-right-color: var(--fill-color);\n",
              "    }\n",
              "    80% {\n",
              "      border-color: transparent;\n",
              "      border-right-color: var(--fill-color);\n",
              "      border-bottom-color: var(--fill-color);\n",
              "    }\n",
              "    90% {\n",
              "      border-color: transparent;\n",
              "      border-bottom-color: var(--fill-color);\n",
              "    }\n",
              "  }\n",
              "</style>\n",
              "\n",
              "  <script>\n",
              "    async function quickchart(key) {\n",
              "      const quickchartButtonEl =\n",
              "        document.querySelector('#' + key + ' button');\n",
              "      quickchartButtonEl.disabled = true;  // To prevent multiple clicks.\n",
              "      quickchartButtonEl.classList.add('colab-df-spinner');\n",
              "      try {\n",
              "        const charts = await google.colab.kernel.invokeFunction(\n",
              "            'suggestCharts', [key], {});\n",
              "      } catch (error) {\n",
              "        console.error('Error during call to suggestCharts:', error);\n",
              "      }\n",
              "      quickchartButtonEl.classList.remove('colab-df-spinner');\n",
              "      quickchartButtonEl.classList.add('colab-df-quickchart-complete');\n",
              "    }\n",
              "    (() => {\n",
              "      let quickchartButtonEl =\n",
              "        document.querySelector('#df-38780cef-3d5c-4d9c-97b4-e687f89bd162 button');\n",
              "      quickchartButtonEl.style.display =\n",
              "        google.colab.kernel.accessAllowed ? 'block' : 'none';\n",
              "    })();\n",
              "  </script>\n",
              "</div>\n",
              "\n",
              "    </div>\n",
              "  </div>\n"
            ],
            "application/vnd.google.colaboratory.intrinsic+json": {
              "type": "dataframe",
              "variable_name": "data",
              "summary": "{\n  \"name\": \"data\",\n  \"rows\": 2111,\n  \"fields\": [\n    {\n      \"column\": \"Gender\",\n      \"properties\": {\n        \"dtype\": \"category\",\n        \"num_unique_values\": 2,\n        \"samples\": [\n          \"Male\",\n          \"Female\"\n        ],\n        \"semantic_type\": \"\",\n        \"description\": \"\"\n      }\n    },\n    {\n      \"column\": \"Age\",\n      \"properties\": {\n        \"dtype\": \"number\",\n        \"std\": 6.3459682737322405,\n        \"min\": 14.0,\n        \"max\": 61.0,\n        \"num_unique_values\": 1402,\n        \"samples\": [\n          25.526746,\n          26.740655\n        ],\n        \"semantic_type\": \"\",\n        \"description\": \"\"\n      }\n    },\n    {\n      \"column\": \"Height\",\n      \"properties\": {\n        \"dtype\": \"number\",\n        \"std\": 0.09330481986792,\n        \"min\": 1.45,\n        \"max\": 1.98,\n        \"num_unique_values\": 1574,\n        \"samples\": [\n          1.760175,\n          1.688436\n        ],\n        \"semantic_type\": \"\",\n        \"description\": \"\"\n      }\n    },\n    {\n      \"column\": \"Weight\",\n      \"properties\": {\n        \"dtype\": \"number\",\n        \"std\": 26.191171745204688,\n        \"min\": 39.0,\n        \"max\": 173.0,\n        \"num_unique_values\": 1525,\n        \"samples\": [\n          120.702935,\n          64.4\n        ],\n        \"semantic_type\": \"\",\n        \"description\": \"\"\n      }\n    },\n    {\n      \"column\": \"family_history_with_overweight\",\n      \"properties\": {\n        \"dtype\": \"category\",\n        \"num_unique_values\": 2,\n        \"samples\": [\n          \"no\",\n          \"yes\"\n        ],\n        \"semantic_type\": \"\",\n        \"description\": \"\"\n      }\n    },\n    {\n      \"column\": \"FAVC\",\n      \"properties\": {\n        \"dtype\": \"category\",\n        \"num_unique_values\": 2,\n        \"samples\": [\n          \"yes\",\n          \"no\"\n        ],\n        \"semantic_type\": \"\",\n        \"description\": \"\"\n      }\n    },\n    {\n      \"column\": \"FCVC\",\n      \"properties\": {\n        \"dtype\": \"number\",\n        \"std\": 0.5339265785033023,\n        \"min\": 1.0,\n        \"max\": 3.0,\n        \"num_unique_values\": 810,\n        \"samples\": [\n          2.987148,\n          2.939727\n        ],\n        \"semantic_type\": \"\",\n        \"description\": \"\"\n      }\n    },\n    {\n      \"column\": \"NCP\",\n      \"properties\": {\n        \"dtype\": \"number\",\n        \"std\": 0.7780386488418594,\n        \"min\": 1.0,\n        \"max\": 4.0,\n        \"num_unique_values\": 635,\n        \"samples\": [\n          1.468948,\n          2.9948\n        ],\n        \"semantic_type\": \"\",\n        \"description\": \"\"\n      }\n    },\n    {\n      \"column\": \"CAEC\",\n      \"properties\": {\n        \"dtype\": \"category\",\n        \"num_unique_values\": 4,\n        \"samples\": [\n          \"Frequently\",\n          \"no\"\n        ],\n        \"semantic_type\": \"\",\n        \"description\": \"\"\n      }\n    },\n    {\n      \"column\": \"SMOKE\",\n      \"properties\": {\n        \"dtype\": \"category\",\n        \"num_unique_values\": 2,\n        \"samples\": [\n          \"yes\",\n          \"no\"\n        ],\n        \"semantic_type\": \"\",\n        \"description\": \"\"\n      }\n    },\n    {\n      \"column\": \"CH2O\",\n      \"properties\": {\n        \"dtype\": \"number\",\n        \"std\": 0.6129534517968702,\n        \"min\": 1.0,\n        \"max\": 3.0,\n        \"num_unique_values\": 1268,\n        \"samples\": [\n          2.395387,\n          1.983973\n        ],\n        \"semantic_type\": \"\",\n        \"description\": \"\"\n      }\n    },\n    {\n      \"column\": \"SCC\",\n      \"properties\": {\n        \"dtype\": \"category\",\n        \"num_unique_values\": 2,\n        \"samples\": [\n          \"yes\",\n          \"no\"\n        ],\n        \"semantic_type\": \"\",\n        \"description\": \"\"\n      }\n    },\n    {\n      \"column\": \"FAF\",\n      \"properties\": {\n        \"dtype\": \"number\",\n        \"std\": 0.8505924308367011,\n        \"min\": 0.0,\n        \"max\": 3.0,\n        \"num_unique_values\": 1190,\n        \"samples\": [\n          1.655488,\n          2.433918\n        ],\n        \"semantic_type\": \"\",\n        \"description\": \"\"\n      }\n    },\n    {\n      \"column\": \"TUE\",\n      \"properties\": {\n        \"dtype\": \"number\",\n        \"std\": 0.6089272596763761,\n        \"min\": 0.0,\n        \"max\": 2.0,\n        \"num_unique_values\": 1129,\n        \"samples\": [\n          1.416353,\n          0.878258\n        ],\n        \"semantic_type\": \"\",\n        \"description\": \"\"\n      }\n    },\n    {\n      \"column\": \"CALC\",\n      \"properties\": {\n        \"dtype\": \"category\",\n        \"num_unique_values\": 4,\n        \"samples\": [\n          \"Sometimes\",\n          \"Always\"\n        ],\n        \"semantic_type\": \"\",\n        \"description\": \"\"\n      }\n    },\n    {\n      \"column\": \"MTRANS\",\n      \"properties\": {\n        \"dtype\": \"category\",\n        \"num_unique_values\": 5,\n        \"samples\": [\n          \"Walking\",\n          \"Bike\"\n        ],\n        \"semantic_type\": \"\",\n        \"description\": \"\"\n      }\n    },\n    {\n      \"column\": \"NObeyesdad\",\n      \"properties\": {\n        \"dtype\": \"category\",\n        \"num_unique_values\": 7,\n        \"samples\": [\n          \"Normal_Weight\",\n          \"Overweight_Level_I\"\n        ],\n        \"semantic_type\": \"\",\n        \"description\": \"\"\n      }\n    }\n  ]\n}"
            }
          },
          "metadata": {},
          "execution_count": 7
        }
      ]
    },
    {
      "cell_type": "code",
      "source": [
        "from sklearn.naive_bayes import MultinomialNB\n",
        "import pandas as pd\n",
        "from sklearn.ensemble import RandomForestClassifier\n",
        "from sklearn.metrics import accuracy_score, classification_report\n",
        "from sklearn.model_selection import train_test_split\n",
        "\n",
        "data = pd.read_csv(\"obesity.csv\")\n",
        "\n",
        "catagery=[\"Gender\",\"Age\",\"Height\",\"Weight\",\"family_history_with_overweight\",\"FAVC\",\"FCVC\",\"NCP\",\"CAEC\",\"SMOKE\",\"CH2O\",\"SCC\",\"FAF\",\"TUE\",\"CALC\",\"MTRANS\",\"NObeyesdad\"]\n",
        "\n",
        "label_encoder = LabelEncoder()\n",
        "for i in catagery:\n",
        "    data[i] = label_encoder.fit_transform(data[i])\n",
        "\n",
        "data.head()\n",
        "\n",
        "input_list = [\"Female\", \"21\", \"1.62\", \"64\", \"yes\", \"no\", \"2\", \"3\", \"Sometimes\", \"no\", \"2\", \"no\", \"0\", \"1\", \"no\", \"Public_Transportation\"]\n",
        "\n",
        "output = []\n",
        "# Loop through the input list and transform each element\n",
        "for i in input_list:\n",
        "    output.append(label_encoder.fit_transform([i])[0])\n",
        "    # output.append(label_encoder.fit_transform(i))\n",
        "\n",
        "\n",
        "\n",
        "print(output)\n",
        "# l=[21,1.62,64,2,3,2,0,1]\n",
        "\n",
        "# x=data.iloc[:,:-1].values\n",
        "# y = data[\"NObeyesdad\"]\n",
        "\n",
        "# X_train, X_test, y_train, y_test = train_test_split(x, y, test_size=0.2, random_state=42)\n",
        "\n",
        "\n",
        "# model = MultinomialNB()\n",
        "# model.fit(X_train,y_train)\n",
        "# print(model.predict(output))\n",
        "\n",
        "# model = MultinomialNB()\n",
        "# model.fit(x,y)\n",
        "# print(model.predict())"
      ],
      "metadata": {
        "colab": {
          "base_uri": "https://localhost:8080/",
          "height": 428
        },
        "id": "5t1yrwmLhTi9",
        "outputId": "1fe5d01e-82b7-49d9-f923-a595bd08cb0e"
      },
      "execution_count": null,
      "outputs": [
        {
          "output_type": "error",
          "ename": "FileNotFoundError",
          "evalue": "[Errno 2] No such file or directory: 'obesity.csv'",
          "traceback": [
            "\u001b[0;31m---------------------------------------------------------------------------\u001b[0m",
            "\u001b[0;31mFileNotFoundError\u001b[0m                         Traceback (most recent call last)",
            "\u001b[0;32m<ipython-input-4-e94279004802>\u001b[0m in \u001b[0;36m<cell line: 7>\u001b[0;34m()\u001b[0m\n\u001b[1;32m      5\u001b[0m \u001b[0;32mfrom\u001b[0m \u001b[0msklearn\u001b[0m\u001b[0;34m.\u001b[0m\u001b[0mmodel_selection\u001b[0m \u001b[0;32mimport\u001b[0m \u001b[0mtrain_test_split\u001b[0m\u001b[0;34m\u001b[0m\u001b[0;34m\u001b[0m\u001b[0m\n\u001b[1;32m      6\u001b[0m \u001b[0;34m\u001b[0m\u001b[0m\n\u001b[0;32m----> 7\u001b[0;31m \u001b[0mdata\u001b[0m \u001b[0;34m=\u001b[0m \u001b[0mpd\u001b[0m\u001b[0;34m.\u001b[0m\u001b[0mread_csv\u001b[0m\u001b[0;34m(\u001b[0m\u001b[0;34m\"obesity.csv\"\u001b[0m\u001b[0;34m)\u001b[0m\u001b[0;34m\u001b[0m\u001b[0;34m\u001b[0m\u001b[0m\n\u001b[0m\u001b[1;32m      8\u001b[0m \u001b[0;34m\u001b[0m\u001b[0m\n\u001b[1;32m      9\u001b[0m \u001b[0mcatagery\u001b[0m\u001b[0;34m=\u001b[0m\u001b[0;34m[\u001b[0m\u001b[0;34m\"Gender\"\u001b[0m\u001b[0;34m,\u001b[0m\u001b[0;34m\"Age\"\u001b[0m\u001b[0;34m,\u001b[0m\u001b[0;34m\"Height\"\u001b[0m\u001b[0;34m,\u001b[0m\u001b[0;34m\"Weight\"\u001b[0m\u001b[0;34m,\u001b[0m\u001b[0;34m\"family_history_with_overweight\"\u001b[0m\u001b[0;34m,\u001b[0m\u001b[0;34m\"FAVC\"\u001b[0m\u001b[0;34m,\u001b[0m\u001b[0;34m\"FCVC\"\u001b[0m\u001b[0;34m,\u001b[0m\u001b[0;34m\"NCP\"\u001b[0m\u001b[0;34m,\u001b[0m\u001b[0;34m\"CAEC\"\u001b[0m\u001b[0;34m,\u001b[0m\u001b[0;34m\"SMOKE\"\u001b[0m\u001b[0;34m,\u001b[0m\u001b[0;34m\"CH2O\"\u001b[0m\u001b[0;34m,\u001b[0m\u001b[0;34m\"SCC\"\u001b[0m\u001b[0;34m,\u001b[0m\u001b[0;34m\"FAF\"\u001b[0m\u001b[0;34m,\u001b[0m\u001b[0;34m\"TUE\"\u001b[0m\u001b[0;34m,\u001b[0m\u001b[0;34m\"CALC\"\u001b[0m\u001b[0;34m,\u001b[0m\u001b[0;34m\"MTRANS\"\u001b[0m\u001b[0;34m,\u001b[0m\u001b[0;34m\"NObeyesdad\"\u001b[0m\u001b[0;34m]\u001b[0m\u001b[0;34m\u001b[0m\u001b[0;34m\u001b[0m\u001b[0m\n",
            "\u001b[0;32m/usr/local/lib/python3.10/dist-packages/pandas/io/parsers/readers.py\u001b[0m in \u001b[0;36mread_csv\u001b[0;34m(filepath_or_buffer, sep, delimiter, header, names, index_col, usecols, dtype, engine, converters, true_values, false_values, skipinitialspace, skiprows, skipfooter, nrows, na_values, keep_default_na, na_filter, verbose, skip_blank_lines, parse_dates, infer_datetime_format, keep_date_col, date_parser, date_format, dayfirst, cache_dates, iterator, chunksize, compression, thousands, decimal, lineterminator, quotechar, quoting, doublequote, escapechar, comment, encoding, encoding_errors, dialect, on_bad_lines, delim_whitespace, low_memory, memory_map, float_precision, storage_options, dtype_backend)\u001b[0m\n\u001b[1;32m   1024\u001b[0m     \u001b[0mkwds\u001b[0m\u001b[0;34m.\u001b[0m\u001b[0mupdate\u001b[0m\u001b[0;34m(\u001b[0m\u001b[0mkwds_defaults\u001b[0m\u001b[0;34m)\u001b[0m\u001b[0;34m\u001b[0m\u001b[0;34m\u001b[0m\u001b[0m\n\u001b[1;32m   1025\u001b[0m \u001b[0;34m\u001b[0m\u001b[0m\n\u001b[0;32m-> 1026\u001b[0;31m     \u001b[0;32mreturn\u001b[0m \u001b[0m_read\u001b[0m\u001b[0;34m(\u001b[0m\u001b[0mfilepath_or_buffer\u001b[0m\u001b[0;34m,\u001b[0m \u001b[0mkwds\u001b[0m\u001b[0;34m)\u001b[0m\u001b[0;34m\u001b[0m\u001b[0;34m\u001b[0m\u001b[0m\n\u001b[0m\u001b[1;32m   1027\u001b[0m \u001b[0;34m\u001b[0m\u001b[0m\n\u001b[1;32m   1028\u001b[0m \u001b[0;34m\u001b[0m\u001b[0m\n",
            "\u001b[0;32m/usr/local/lib/python3.10/dist-packages/pandas/io/parsers/readers.py\u001b[0m in \u001b[0;36m_read\u001b[0;34m(filepath_or_buffer, kwds)\u001b[0m\n\u001b[1;32m    618\u001b[0m \u001b[0;34m\u001b[0m\u001b[0m\n\u001b[1;32m    619\u001b[0m     \u001b[0;31m# Create the parser.\u001b[0m\u001b[0;34m\u001b[0m\u001b[0;34m\u001b[0m\u001b[0m\n\u001b[0;32m--> 620\u001b[0;31m     \u001b[0mparser\u001b[0m \u001b[0;34m=\u001b[0m \u001b[0mTextFileReader\u001b[0m\u001b[0;34m(\u001b[0m\u001b[0mfilepath_or_buffer\u001b[0m\u001b[0;34m,\u001b[0m \u001b[0;34m**\u001b[0m\u001b[0mkwds\u001b[0m\u001b[0;34m)\u001b[0m\u001b[0;34m\u001b[0m\u001b[0;34m\u001b[0m\u001b[0m\n\u001b[0m\u001b[1;32m    621\u001b[0m \u001b[0;34m\u001b[0m\u001b[0m\n\u001b[1;32m    622\u001b[0m     \u001b[0;32mif\u001b[0m \u001b[0mchunksize\u001b[0m \u001b[0;32mor\u001b[0m \u001b[0miterator\u001b[0m\u001b[0;34m:\u001b[0m\u001b[0;34m\u001b[0m\u001b[0;34m\u001b[0m\u001b[0m\n",
            "\u001b[0;32m/usr/local/lib/python3.10/dist-packages/pandas/io/parsers/readers.py\u001b[0m in \u001b[0;36m__init__\u001b[0;34m(self, f, engine, **kwds)\u001b[0m\n\u001b[1;32m   1618\u001b[0m \u001b[0;34m\u001b[0m\u001b[0m\n\u001b[1;32m   1619\u001b[0m         \u001b[0mself\u001b[0m\u001b[0;34m.\u001b[0m\u001b[0mhandles\u001b[0m\u001b[0;34m:\u001b[0m \u001b[0mIOHandles\u001b[0m \u001b[0;34m|\u001b[0m \u001b[0;32mNone\u001b[0m \u001b[0;34m=\u001b[0m \u001b[0;32mNone\u001b[0m\u001b[0;34m\u001b[0m\u001b[0;34m\u001b[0m\u001b[0m\n\u001b[0;32m-> 1620\u001b[0;31m         \u001b[0mself\u001b[0m\u001b[0;34m.\u001b[0m\u001b[0m_engine\u001b[0m \u001b[0;34m=\u001b[0m \u001b[0mself\u001b[0m\u001b[0;34m.\u001b[0m\u001b[0m_make_engine\u001b[0m\u001b[0;34m(\u001b[0m\u001b[0mf\u001b[0m\u001b[0;34m,\u001b[0m \u001b[0mself\u001b[0m\u001b[0;34m.\u001b[0m\u001b[0mengine\u001b[0m\u001b[0;34m)\u001b[0m\u001b[0;34m\u001b[0m\u001b[0;34m\u001b[0m\u001b[0m\n\u001b[0m\u001b[1;32m   1621\u001b[0m \u001b[0;34m\u001b[0m\u001b[0m\n\u001b[1;32m   1622\u001b[0m     \u001b[0;32mdef\u001b[0m \u001b[0mclose\u001b[0m\u001b[0;34m(\u001b[0m\u001b[0mself\u001b[0m\u001b[0;34m)\u001b[0m \u001b[0;34m->\u001b[0m \u001b[0;32mNone\u001b[0m\u001b[0;34m:\u001b[0m\u001b[0;34m\u001b[0m\u001b[0;34m\u001b[0m\u001b[0m\n",
            "\u001b[0;32m/usr/local/lib/python3.10/dist-packages/pandas/io/parsers/readers.py\u001b[0m in \u001b[0;36m_make_engine\u001b[0;34m(self, f, engine)\u001b[0m\n\u001b[1;32m   1878\u001b[0m                 \u001b[0;32mif\u001b[0m \u001b[0;34m\"b\"\u001b[0m \u001b[0;32mnot\u001b[0m \u001b[0;32min\u001b[0m \u001b[0mmode\u001b[0m\u001b[0;34m:\u001b[0m\u001b[0;34m\u001b[0m\u001b[0;34m\u001b[0m\u001b[0m\n\u001b[1;32m   1879\u001b[0m                     \u001b[0mmode\u001b[0m \u001b[0;34m+=\u001b[0m \u001b[0;34m\"b\"\u001b[0m\u001b[0;34m\u001b[0m\u001b[0;34m\u001b[0m\u001b[0m\n\u001b[0;32m-> 1880\u001b[0;31m             self.handles = get_handle(\n\u001b[0m\u001b[1;32m   1881\u001b[0m                 \u001b[0mf\u001b[0m\u001b[0;34m,\u001b[0m\u001b[0;34m\u001b[0m\u001b[0;34m\u001b[0m\u001b[0m\n\u001b[1;32m   1882\u001b[0m                 \u001b[0mmode\u001b[0m\u001b[0;34m,\u001b[0m\u001b[0;34m\u001b[0m\u001b[0;34m\u001b[0m\u001b[0m\n",
            "\u001b[0;32m/usr/local/lib/python3.10/dist-packages/pandas/io/common.py\u001b[0m in \u001b[0;36mget_handle\u001b[0;34m(path_or_buf, mode, encoding, compression, memory_map, is_text, errors, storage_options)\u001b[0m\n\u001b[1;32m    871\u001b[0m         \u001b[0;32mif\u001b[0m \u001b[0mioargs\u001b[0m\u001b[0;34m.\u001b[0m\u001b[0mencoding\u001b[0m \u001b[0;32mand\u001b[0m \u001b[0;34m\"b\"\u001b[0m \u001b[0;32mnot\u001b[0m \u001b[0;32min\u001b[0m \u001b[0mioargs\u001b[0m\u001b[0;34m.\u001b[0m\u001b[0mmode\u001b[0m\u001b[0;34m:\u001b[0m\u001b[0;34m\u001b[0m\u001b[0;34m\u001b[0m\u001b[0m\n\u001b[1;32m    872\u001b[0m             \u001b[0;31m# Encoding\u001b[0m\u001b[0;34m\u001b[0m\u001b[0;34m\u001b[0m\u001b[0m\n\u001b[0;32m--> 873\u001b[0;31m             handle = open(\n\u001b[0m\u001b[1;32m    874\u001b[0m                 \u001b[0mhandle\u001b[0m\u001b[0;34m,\u001b[0m\u001b[0;34m\u001b[0m\u001b[0;34m\u001b[0m\u001b[0m\n\u001b[1;32m    875\u001b[0m                 \u001b[0mioargs\u001b[0m\u001b[0;34m.\u001b[0m\u001b[0mmode\u001b[0m\u001b[0;34m,\u001b[0m\u001b[0;34m\u001b[0m\u001b[0;34m\u001b[0m\u001b[0m\n",
            "\u001b[0;31mFileNotFoundError\u001b[0m: [Errno 2] No such file or directory: 'obesity.csv'"
          ]
        }
      ]
    },
    {
      "cell_type": "code",
      "source": [
        "from sklearn.preprocessing import LabelEncoder\n",
        "\n",
        "# Sample data\n",
        "categories = ['cat', 'dog', 'rabbit', 'dog', 'cat']\n",
        "\n",
        "# Initialize LabelEncoder\n",
        "label_encoder = LabelEncoder()\n",
        "\n",
        "# Fit the encoder and transform the categories into numeric values\n",
        "encoded_labels = label_encoder.fit_transform(categories)\n",
        "\n",
        "# Display encoded values\n",
        "print(\"Original Labels:\", categories)\n",
        "print(\"Encoded Labels:\", encoded_labels)\n",
        "\n",
        "# Inverse transform: Convert encoded values back to original labels\n",
        "decoded_labels = label_encoder.inverse_transform(encoded_labels)\n",
        "print(\"Decoded Labels:\", decoded_labels)\n"
      ],
      "metadata": {
        "colab": {
          "base_uri": "https://localhost:8080/"
        },
        "id": "Ds_XeAAWizOK",
        "outputId": "8c17beeb-6827-4948-a23d-0837dfc4f7ee"
      },
      "execution_count": null,
      "outputs": [
        {
          "output_type": "stream",
          "name": "stdout",
          "text": [
            "Original Labels: ['cat', 'dog', 'rabbit', 'dog', 'cat']\n",
            "Encoded Labels: [0 1 2 1 0]\n",
            "Decoded Labels: ['cat' 'dog' 'rabbit' 'dog' 'cat']\n"
          ]
        }
      ]
    },
    {
      "cell_type": "code",
      "source": [
        "pip list"
      ],
      "metadata": {
        "id": "QxPNT-NewRw1"
      },
      "execution_count": null,
      "outputs": []
    },
    {
      "cell_type": "markdown",
      "source": [
        "1. CNN Has the conlution and dense part\n",
        "2. where dense part require or take single dimensional array  as input\n",
        "   Convolution part takes multi dimension as input\n",
        "\n",
        "\n",
        "3. SoftMax deals with the multiclass >2\n",
        "## 4. CNN\n",
        "        1. by using the  kernel we filter and get the suitable part in the matrix . How do we know whether it is suitable for the part\n",
        "        by getting the max value while mapping\n",
        "        2. Kernel output's the features matrix in convolution layer\n",
        "    \n",
        "\n",
        "\n",
        "\n",
        "\n",
        "\n"
      ],
      "metadata": {
        "id": "UiIpTT_5274U"
      }
    },
    {
      "cell_type": "code",
      "source": [
        "import tensorflow as tf\n",
        "import numpy as np\n",
        "v1=tf.Variable(tf.constant(2.0,shape=[4],dtype=\"float32\"))\n",
        "v2 = tf.Variable(np.ones(shape=[4,3],dtype=\"float32\"))\n",
        "v2[0,0].assign(7)\n",
        "print(v2)\n",
        "v3 =tf.Variable(tf.keras.initializers.RandomNormal()(shape=[3,4,5,2]), dtype=\"float32\")  # by using this we can generate any dimension matrix could say..\n"
      ],
      "metadata": {
        "colab": {
          "base_uri": "https://localhost:8080/"
        },
        "id": "NT5kBPNABaGq",
        "outputId": "ba95f619-3e7b-4768-ac71-fa74a2064262"
      },
      "execution_count": null,
      "outputs": [
        {
          "output_type": "stream",
          "name": "stdout",
          "text": [
            "<tf.Variable 'Variable:0' shape=(4, 3) dtype=float32, numpy=\n",
            "array([[7., 1., 1.],\n",
            "       [1., 1., 1.],\n",
            "       [1., 1., 1.],\n",
            "       [1., 1., 1.]], dtype=float32)>\n"
          ]
        }
      ]
    }
  ]
}